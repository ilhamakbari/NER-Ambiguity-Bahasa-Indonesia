{
 "metadata": {
  "language_info": {
   "codemirror_mode": {
    "name": "ipython",
    "version": 3
   },
   "file_extension": ".py",
   "mimetype": "text/x-python",
   "name": "python",
   "nbconvert_exporter": "python",
   "pygments_lexer": "ipython3",
   "version": "3.8.5"
  },
  "orig_nbformat": 2,
  "kernelspec": {
   "name": "python3",
   "display_name": "Python 3.8.5 64-bit"
  },
  "metadata": {
   "interpreter": {
    "hash": "965ba1120b0c101b3f715b6e258a73742ec1cf86f2c8b04492724c87d9f112c3"
   }
  },
  "interpreter": {
   "hash": "965ba1120b0c101b3f715b6e258a73742ec1cf86f2c8b04492724c87d9f112c3"
  }
 },
 "nbformat": 4,
 "nbformat_minor": 2,
 "cells": [
  {
   "cell_type": "code",
   "execution_count": 1,
   "metadata": {},
   "outputs": [],
   "source": [
    "# Fungsi untuk membaca data train \n",
    "# Membuat tag_count, word_tag, tag_trans untuk menghitung transition probability dan emission probability\n",
    "def read_file_init_table(fname):\n",
    "    tag_count = {}\n",
    "    tag_count['<start>'] = 0\n",
    "    word_tag = {}\n",
    "    tag_trans = {}\n",
    "        \n",
    "    with open(fname) as f:\n",
    "        content = f.readlines()\n",
    "\n",
    "    content = [x.strip() for x in content]\n",
    "    content = [l.lower() for l in content]\n",
    "    idx_line = 0\n",
    "    is_first_word = 0\n",
    "    \n",
    "    while idx_line < len(content):\n",
    "        prev_tag = '<start>'\n",
    "        while not content[idx_line].startswith('</kalimat'):\n",
    "            if  not content[idx_line].startswith('<kalimat'):\n",
    "                content_part = content[idx_line].split('\\t')\n",
    "                if content_part[1] in tag_count:\n",
    "                    tag_count[content_part[1]] += 1\n",
    "                else:\n",
    "                    tag_count[content_part[1]] = 1\n",
    "                    \n",
    "                current_word_tag = content_part[0] + '|' + content_part[1]\n",
    "                if current_word_tag in word_tag:\n",
    "                    word_tag[current_word_tag] += 1\n",
    "                else:    \n",
    "                    word_tag[current_word_tag] = 1\n",
    "                    \n",
    "                    \n",
    "                if is_first_word == 1:\n",
    "                    current_tag_trans = '<start>' + '|' + content_part[1]\n",
    "                    is_first_word = 0\n",
    "                else:\n",
    "                    current_tag_trans = prev_tag + '|' + content_part[1]\n",
    "                    \n",
    "                if current_tag_trans in tag_trans:\n",
    "                    tag_trans[current_tag_trans] += 1\n",
    "                else:\n",
    "                    tag_trans[current_tag_trans] = 1                    \n",
    "                prev_tag = content_part[1]                   \n",
    "            else:\n",
    "                tag_count['<start>'] += 1\n",
    "                is_first_word = 1\n",
    "            idx_line = idx_line + 1\n",
    "\n",
    "        prev_tag = '<end>'\n",
    "        if prev_tag in tag_count:\n",
    "            tag_count[prev_tag] += 1\n",
    "        else:\n",
    "            tag_count[prev_tag] = 1\n",
    "        current_tag_trans = content_part[1] + '|' + prev_tag\n",
    "        if current_tag_trans in tag_trans:\n",
    "            tag_trans[current_tag_trans] += 1\n",
    "        else:\n",
    "            tag_trans[current_tag_trans] = 1                     \n",
    "            \n",
    "        idx_line = idx_line+1       \n",
    "    return tag_count, word_tag, tag_trans"
   ]
  },
  {
   "cell_type": "code",
   "execution_count": 2,
   "metadata": {},
   "outputs": [],
   "source": [
    "# Fungsi untuk membaca datatest dan menjadikan array yang berisi kata-kata yang sudah di-split di satu kalimat \n",
    "# beserta kumpulan tag dari kata-kata tersebut, kemudian diubah ke lower-case\n",
    "def read_datatest(fname):\n",
    "    sentences = []\n",
    "    tags = []\n",
    "    with open(fname) as f:\n",
    "        content = f.readlines()\n",
    "        \n",
    "    content = [x.strip() for x in content]\n",
    "    content = [x.lower() for x in content]\n",
    "    idx_line = 0\n",
    "    while idx_line < len(content):\n",
    "        sen = []\n",
    "        tag = []\n",
    "        while not content[idx_line].startswith('</kalimat'):\n",
    "            if  not content[idx_line].startswith('<kalimat'):\n",
    "                content_part = content[idx_line].split('\\t')\n",
    "                sen.append(content_part[0])\n",
    "                tag.append(content_part[1])\n",
    "            idx_line = idx_line + 1\n",
    "        sentences.append(sen)\n",
    "        tags.append(tag)\n",
    "        idx_line = idx_line+2        \n",
    "    return sentences, tags"
   ]
  },
  {
   "cell_type": "code",
   "execution_count": 3,
   "metadata": {},
   "outputs": [],
   "source": [
    "# Membaca datatrain\n",
    "tag_count, word_tag, tag_trans = read_file_init_table('datatrain.txt')\n",
    "\n",
    "# print(tag_count)\n",
    "# print(word_tag)\n",
    "# print(tag_trans)"
   ]
  },
  {
   "cell_type": "code",
   "execution_count": 4,
   "metadata": {},
   "outputs": [],
   "source": [
    "# Membaca datatest\n",
    "sentences, tags = read_datatest('datatest-ambiguity.txt')"
   ]
  },
  {
   "cell_type": "code",
   "execution_count": 5,
   "metadata": {},
   "outputs": [],
   "source": [
    "# Fungsi untuk menghitung transition probability\n",
    "def create_trans_prob_table(tag_trans, tag_count):\n",
    "    trans_prob = {}\n",
    "    for tag1 in tag_count.keys():\n",
    "        for tag2 in tag_count.keys():\n",
    "            trans_idx = tag1 + '|' + tag2\n",
    "            if trans_idx in tag_trans:\n",
    "                trans_prob[trans_idx] = tag_trans[trans_idx]/tag_count[tag1]\n",
    "    return trans_prob"
   ]
  },
  {
   "cell_type": "code",
   "execution_count": 6,
   "metadata": {},
   "outputs": [],
   "source": [
    "trans_prob = create_trans_prob_table(tag_trans, tag_count)"
   ]
  },
  {
   "cell_type": "code",
   "execution_count": 7,
   "metadata": {},
   "outputs": [],
   "source": [
    "# Fungsi untuk menghitung emission probability\n",
    "def create_emission_prob_table(word_tag, tag_count):\n",
    "    emission_prob = {}\n",
    "    for word_tag_entry in word_tag.keys():\n",
    "        word_tag_split = word_tag_entry.split('|')\n",
    "        current_word = word_tag_split[0]\n",
    "        current_tag = word_tag_split[1]\n",
    "        if word_tag_entry != '' and current_tag != '' :\n",
    "            emission_key = current_word + '|' + current_tag\n",
    "            emission_prob[emission_key] = word_tag[word_tag_entry]/tag_count[current_tag]    \n",
    "    return emission_prob"
   ]
  },
  {
   "cell_type": "code",
   "execution_count": 8,
   "metadata": {},
   "outputs": [],
   "source": [
    "emission_prob = create_emission_prob_table(word_tag, tag_count)"
   ]
  },
  {
   "cell_type": "code",
   "execution_count": 9,
   "metadata": {},
   "outputs": [],
   "source": [
    "# Mencari key dari suatu kata di dalam tabel transition probability atau emission probability\n",
    "def has_key(dictionary, string):\n",
    "    return [k for k,v in dictionary.items() if (string) == k.split('|')[0]]"
   ]
  },
  {
   "cell_type": "code",
   "execution_count": 10,
   "metadata": {},
   "outputs": [],
   "source": [
    "# Viterbi.....\n",
    "def viterbi(trans_prob, emission_prob, sentence_words):\n",
    "    # initialization\n",
    "    viterbi_matrix = [{}]\n",
    "    tag_sequence = [{}]\n",
    "    \n",
    "    # Mencari tag untuk kata pertama setelah start\n",
    "    key_emis = has_key(emission_prob, sentence_words[0])\n",
    "    tag_em = [k.split('|')[1] for k in key_emis]\n",
    "    key_trans = has_key(trans_prob, '<start>')\n",
    "    tag_tr = [k.split('|')[1] for k in key_trans]\n",
    "    \n",
    "    # Menghitung probabilitas setiap tag dari start\n",
    "    for j in range(0,len(tag_em)):\n",
    "        if tag_em[j] in tag_tr:\n",
    "            prob = (emission_prob.get(key_emis[j]) * trans_prob.get('<start>'+'|'+tag_em[j]))\n",
    "            viterbi_matrix[0][tag_em[j]] = prob\n",
    "\n",
    "    # HMM untuk tag kata dari kata kedua sampai kata terakhir\n",
    "    for i in range(1,len(sentence_words)):\n",
    "        viterbi_matrix.append({})\n",
    "        tag_sequence.append({})\n",
    "        \n",
    "        # Mencari tag untuk kata ke-i\n",
    "        key_emis = has_key(emission_prob, sentence_words[i])\n",
    "        tag_em = [k.split('|')[1] for k in key_emis]\n",
    "        \n",
    "        # Menghitung probabilitas tag dari tag sebelumnya dan mencari probabilitas terbesar tag\n",
    "        for j in range(0,len(tag_em)):\n",
    "            prob = {}\n",
    "            for k in viterbi_matrix[i-1] :\n",
    "                if(trans_prob.get(k+'|'+tag_em[j])) == None:\n",
    "                    prob[k] = 0\n",
    "                else:\n",
    "                    prob[k] = viterbi_matrix[i-1][k] * trans_prob.get(k+'|'+tag_em[j]) * emission_prob.get(key_emis[j])\n",
    "\n",
    "            viterbi_matrix[i][tag_em[j]] = max(prob.values())\n",
    "            tag_sequence[i][tag_em[j]] = max(prob, key = prob.get)\n",
    "            \n",
    "\n",
    "    # Menghitung probabilitas kata terakhir ke end\n",
    "    prob = {}\n",
    "    viterbi_matrix.append({})\n",
    "    for k in viterbi_matrix[i]:\n",
    "        key_trans = [k for k,v in trans_prob.items() if k.endswith('<end>')]\n",
    "        tag_tr = [k.split('|')[0] for k in key_trans]\n",
    "        if k in tag_tr:\n",
    "            prob[k] = viterbi_matrix[i][k] * trans_prob.get(k+'|'+'<end>')\n",
    "        else:\n",
    "            prob[k] = 0\n",
    "    \n",
    "    # Backward mencari tag kata dengan probabilitas yang terbesar\n",
    "    m = 0\n",
    "    tag = []\n",
    "    tag.append(max(prob, key = prob.get))\n",
    "    for l in range(len(tag_sequence)-1,0,-1):\n",
    "        tag.append(tag_sequence[l].get(tag[m]))\n",
    "        m += 1\n",
    "    tag.reverse()   \n",
    "    \n",
    "    return tag"
   ]
  },
  {
   "cell_type": "code",
   "execution_count": 11,
   "metadata": {},
   "outputs": [],
   "source": [
    "# Predict label dari setiap kata menggunakan viterbi\n",
    "tag_predicted = []\n",
    "\n",
    "for s in sentences:\n",
    "    tag_predicted.append(viterbi(trans_prob, emission_prob, s))"
   ]
  },
  {
   "cell_type": "code",
   "execution_count": 12,
   "metadata": {},
   "outputs": [],
   "source": [
    "# Save model ke text file\n",
    "transmodel = open('transmodel-amb.txt', 'wt')\n",
    "transmodel.write(str(trans_prob))\n",
    "transmodel.close()\n",
    "\n",
    "emissionmodel = open('emissionmodel-amb.txt', 'wt')\n",
    "emissionmodel.write(str(emission_prob))\n",
    "emissionmodel.close()"
   ]
  },
  {
   "cell_type": "code",
   "execution_count": 13,
   "metadata": {},
   "outputs": [],
   "source": [
    "# Akurasi\n",
    "def measure_accuraccy(tag_predicted, tags):\n",
    "    accu = []\n",
    "    for predict in range(len(tag_predicted)):\n",
    "        same = 0\n",
    "        for p in range(len(tag_predicted[predict])):\n",
    "            if (tag_predicted[predict][p] == tags[predict][p]):\n",
    "                same += 1\n",
    "        accu.append(same / len(tag_predicted[predict]))\n",
    "        # print(same)\n",
    "    return (sum(accu)/len(accu))"
   ]
  },
  {
   "cell_type": "code",
   "execution_count": 14,
   "metadata": {},
   "outputs": [
    {
     "output_type": "stream",
     "name": "stdout",
     "text": [
      "Akurasi Viterbi :  0.9328256297403148\n"
     ]
    }
   ],
   "source": [
    "accuraccy = measure_accuraccy(tag_predicted, tags)\n",
    "print('Akurasi Viterbi : ', accuraccy)"
   ]
  },
  {
   "cell_type": "code",
   "execution_count": 15,
   "metadata": {},
   "outputs": [
    {
     "output_type": "stream",
     "name": "stdout",
     "text": [
      "[bandar, udara, internasional, soekarno, â€“, hatta, merupakan, sebuah, bandar, udara, utama, yang, melayani, penerbangan, untuk, jakarta, ,, indonesia, ., bandar, udara, ini, diberi, nama, sesuai, dengan, nama, dwitunggal, tokoh, proklamator, kemerdekaan, indonesia, ,, soekarno, dan, mohammad, hatta, ,, yang, sekaligus, merupakan, presiden, dan, wakil, presiden, indonesia, pertama, .]\n[bandar, udara, internasional, ngurah, rai, atau, disebut, juga, bandar, udara, internasional, i, gusti, ngurah, rai, adalah, bandar, udara, internasional, yang, terletak, di, sebelah, selatan, bali, ,, indonesia, ,, tepatnya, di, daerah, kelurahan, tuban, ,, kecamatan, kuta, ,, kabupaten, badung, ,, bali, ,, sekitar, 13, km, dari, denpasar, .]\n[jenderal, ahmad, yani, adalah, salah, satu, tokoh, pahlawan, revolusi, yang, merupakan, komandan, tni, ad, yang, berhasil, merebut, kembali, kota, padang, dan, bukittinggi, pada, 1958, ., jalan, jenderal, ahmad, yani, bisa, kamu, temui, di, kota, -, kota, besar, seperti, banjarmasin, ,, banyuwangi, ,, jakarta, ,, bekasi, ,, tangerang, ,, bogor, ,, bandung, dan, manado, .]\n[jenderal, gatot, subroto, adalah, tokoh, perjuangan, militer, indonesia, ., ia, adalah, salah, satu, pahlawan, yang, turut, berperan, dalam, perjuangan, kemerdekaan, indonesia, ., di, jakarta, ,, nama, jalan, ini, lebih, akrab, dikenal, dengan, sebutan, ', gatsu, ', ., selain, di, jakarta, ,, kamu, juga, akan, menemui, jalan, dengan, nama, ini, di, kota, bandung, ,, pekanbaru, ,, makassar, ,, dan, malang, .]\n[jalan, jenderal, sudirman, adalah, jalan, yang, mengambil, namanya, dari, nama, pahlawan, indonesia, yang, merupakan, panglima, besar, tni, yang, pertama, ., ada, lima, kota, yang, memiliki, jalan, dengan, nama, panglima, pertama, tni, ini, yaitu, jakarta, ,, bandung, ,, semarang, ,, medan, ,, dan, surabaya, .]\n[kali, ini, yang, dijadikan, nama, jalan, untuk, kota, -, kota, besar, di, indonesia, adalah, nama, pahlawan, tuanku, imam, bonjol, ., beliau, adalah, pahlawan, yang, berasal, dari, sumatera, barat, ,, yang, terkenal, di, perang, padri, tahun, 1803, -, 1838, ., jalan, imam, bonjol, terdapat, di, jakarta, ,, padang, ,, medan, ,, semarang, ,, denpasar, ,, dan, solo, .]\n[pangeran, diponogoro, dikenal, dalam, perang, diponogoro, tahun, 1825, yang, dipimpinnya, ., tentunya, ,, kamu, juga, bisa, menemukan, jalan, diponogoro, ini, di, jakarta, ,, bandung, ,, surabaya, ,, denpasar, ,, aceh, ,, blitar, dan, lampung, .]\n[selain, nama, para, pahlawan, pria, yang, nama, -, namanya, dijadikan, nama, jalan, untuk, kota, -, kota, besar, indonesia, ,, nama, r, ., a, kartini, juga, bisa, kamu, temukan, sebagai, nama, jalan, ,, lho, .]\n[selain, pantai, ,, kamu, juga, bisa, mampir, ke, museum, kamar, pengabdian, r, ., a, ., kartini, di, jalan, gatot, subroto, 8, ,, kutoharjo, ,, kecamatan, rembang, ,, kabupaten, rembang, ,, jawa, tengah, .]\n[selain, nama, jalan, ,, nama, prof, ., dr, ., ir, ., soemantri, juga, diabadikan, sebagai, nama, salah, satu, puncak, gunung, di, pegunungan, jayawijaya, ,, yakni, puncak, soemantri, dengan, ketinggian, 4, ., 808, mdpl, .]\n[puncak, soekarno, berada, di, ketinggian, 4, ., 826, mdpl, ., selain, puncak, soekarno, ,, gunung, ini, punya, puncak, tertinggi, yaitu, puncak, carstensz, pyramid, dengan, ketinggian, 4, ., 884, mdpl, .]\n[nama, wakil, presiden, pertama, indonesia, ,, muhammad, hatta, ,, diabadikan, menjadi, nama, pulau, di, kecamatan, banda, ,, kabupaten, maluku, tengah, ., sebelum, bernama, pulau, hatta, ,, dulunya, tempat, ini, bernama, pulau, rozengain, .]\n[pulau, ini, dulunya, bernama, pulau, frederik, hendrik, ,, sebelum, terjadi, pertempuran, laut, aru, yang, menggugurkan, komodor, yos, sudarso, .]\n[sejak, peristiwa, tersebut, ,, pulau, yang, berada, di, wilayah, kabupaten, merauke, ,, papua, ,, ini, berubah, nama, menjadi, pulau, yos, sudarso, .]\n[taman, dan, pusat, kebudayaan, yang, berada, di, jalan, cikini, raya, 73, ,, jakarta, pusat, ,, ini, merupakan, salah, satu, kawasan, yang, terdiri, dari, banyak, tempat, ., di, antaranya, bioskop, ,, planetarium, ,, perpustakaan, ,, gedung, pertunjukan, ,, dan, sebagainya, ., gak, heran, kalau, taman, ismail, marzuki, (, tim, ), ramai, dikunjungi, ,, apalagi, akhir, pekan, .]\n[stadion, yang, terletak, di, kompleks, gelora, bung, karno, ,, kawasan, senayan, ,, ini, jelas, mengingatkan, kita, pada, soekarno, ,, proklamator, sekaligus, presiden, pertama, indonesia, .]\n[stadion, h, ., agus, salim, terletak, di, padang, ,, sumatra, barat, ,, dan, jadi, markas, semen, padang, ., nama, stadion, ini, diambil, dari, nama, agus, salim, ,, yang, merupakan, aktivis, kemerdekaan, ,, politisi, ,, dan, pemimpin, islam, minang, .]\n[stadion, wr, soepratman, terletak, di, kota, kecil, di, jawa, tengah, ,, tepatnya, di, kabupaten, purworejo, .]\n[stadion, sultan, agung, yang, merupakan, markas, persiba, bantul, ini, mengambil, nama, dari, pahlawan, nasional, sultan, agung, adi, prabu, hanyakrakusuma, .]\n[nama, pemimpin, pemberontakan, melawan, pasukan, pendudukan, jepang, di, blitar, ini, diabadikan, sebagai, kompleks, stadion, di, kota, asalnya, ,, blitar, ., supriyadi, ,, pemimpin, pasukan, pembela, tanah, air, (, peta, ), ,, ditetapkan, jadi, pahlawan, nasional, pada, 9, agustus, 1975, sesuai, sk, presiden, no, ., 063, /, tk, /, 1975, .]\n[nama, stadion, bung, tomo, yang, memiliki, kapasitas, 50, ribu, penonton, mengambil, nama, dari, nama, pemimpin, dalam, pertempuran, surabaya, yang, terjadi, pada, 10, november, 1945, ,, sutomo, .]\n[selain, diabadikan, menjadi, nama, bandar, udara, di, malang, ,, jatim, ,, abdurrahman, saleh, juga, menjadi, nama, stadion, markas, psss, situbondo, di, situbondo, ,, jatim, yang, bernama, stadion, abdurrahman, saleh, .]\n[stadion, diponogoro, ,, yang, punya, nama, lain, stadion, jogopati, ,, mengambil, nama, dari, pahlawan, nasional, pangeran, diponogoro, .]\n[setidaknya, ada, tiga, stadion, di, tanah, air, yang, menggunakan, ahmad, yani, sebagai, nama, ,, yakni, di, sumenep, ,, mojokerto, ,, dan, sumedang, .]\n[ahmed, soekarno, st, dijadikan, sebagai, nama, jalan, di, kit, kat, agouza, geiza, ,, dekat, dengan, pusat, kota, dan, pusat, kebudayaan, di, tahrir, square, ,, kairo, .]\n[jalan, bernama, mohhamed, hattastraat, itu, diresmikan, pada, 1987, sebagai, bentuk, penghormatan, bung, hatta, dalam, memerdekan, indonesia, .]\n[nama, mohammad, hatta, dijadikan, sebuah, nama, jalan, di, belanda, .]\n[sjahrir, merupakan, perdana, menteri, pertama, indonesia, yang, ditetapkan, sebagai, pahlawan, nasional, pada, april, 1966, .]\n[pada, 2011, ,, nama, jalan, pattimurastraat, diresmikan, sebagai, cabang, dari, jalan, jan, jansweg, .]\n[pemerintah, belanda, menamakan, jalan, tersebut, munirpad, ,, indonesische, voorvechter, van, de, bescherming, de, rechten, van, de, mens, atau, jalan, munir, ,, sebagai, penghormatan, kepada, munir, ,, advokat, pejuang, ham, indonesia, .]\n[joko, widodo, street, resmi, menjadi, nama, jalan, di, abu, dhabi, ,, uni, emirat, arab, pada, november, 2020, .]\n[bandara, kertajati, diusulkan, ganti, nama, menjadi, bandara, bj, habibie, ,, ridwan, kamil, setuju, .]\n[seperti, bandara, hasanuddin, di, makassar, ,, sultan, iskandar, muda, di, aceh, ,, soekarno, -, hatta, di, jakarta, ,, sam, ratulangi, di, manado, ,, husein, sastranegara, di, bandung, dan, sejumlah, nama, lainnya, .]\n[gubernur, jawa, barat, mengusulkan, nama, abdul, halim, sebagai, nama, untuk, bandara, internasional, jawa, barat, (, bijb, ), di, kertajati, majalengka, .]\n[bandara, ngloram, blora, diusulkan, dinamai, bandara, abdurrahman, wahid, ,, presiden, ke, 4, ri, .]\n[semula, jalan, ini, bernama, sharia, al-rais, ahmed, soekarno, ,, tetapi, sekarang, dikenal, dengan, rue, soekarno, atau, avenue, soekarno, .]\n[nama, jalan, yang, dikenal, dengan, sebutan, mohammed, hattastraat, berada, di, kawasan, perumahan, zuiderpolder, yang, dibangun, pada, tahun, 1987, .]\n[pemerintah, setempat, menyematkan, nama, jalan, ini, dengan, nama, raden, adjeng, kartinistraat, .]\n[jadilah, nama, munirpad, diberikan, pada, jalan, setapak, di, lingkungan, martin, luther, king, -, laan, dekat, salvador, allende, straat, dalam, kompleks, perumahan, den, haag, .]\n[ada, jalan, macassar, dan, sheikh, yusuf, road, (, jalan, syekh, yusuf, ), di, cape, town, untuk, mengenang, tempat, kelahiran, dan, nama, syekh, yusuf, .]\n[yaitu, sjahrirstraat, di, kota, leiden, ,, sjahrirsingel, di, kota, gouda, ,, dan, sutan, sjahrirstraat, di, harlem, ., lokasinya, tidak, jauh, dari, kartinistraat, dan, hattastraat, .]\n[sutomo, atau, populer, dengan, panggilan, bung, tomo, ,, begitu, gagah, berani, membakar, semangat, pemuda, surabaya, untuk, melawan, pasukan, belanda, .]\n[penggunaan, nama, wage, rudolf, soepratman, di, kabupaten, yang, kerap, dijuluki, sebagai, kota, pensiun, itu, lantaran, komposer, nasional, itu, diyakini, lahir, di, purworejo, .]\n[stadion, utama, gelora, bung, karno, jadi, stadion, nasional, dan, kebanggaan, indonesia, karena, stadion, yang, dibangun, atas, ide, soekarno, mulai, 1958, ini, memiliki, rekam, jejak, yang, mewarnai, sejarah, khususnya, olah, raga, negara, ini, .]\n[nama, tokoh, perjuangan, wanita, indonesia, raden, adjeng, kartini, menjadi, nama, jalan, di, amsterdam, .]\n[nama, tuanku, imam, bonjol, sering, dijadikan, nama, jalan, contohnya, di, jakarta, yaitu, jl, ., imam, bonjol, .]\n[jalan, jendral, ahmad, yani, bisa, ditemui, di, kota, banjarmasin, .]\n[seruas, jalan, di, kota, abu, dhabi, ,, uni, emirat, arab, diresmikan, sebagai, presiden, joko, widodo, street, .]\n[presiden, pakistan, ayub, khan, memberikan, penghormatan, atas, jasa, presiden, soekarno, untuk, menamai, salah, satu, jalan, dan, sebuah, area, bazar, bernama, soekarno, square, khyber, bazar, di, pakistan, .]\n[nama, sutan, sjahrir, diabadikan, menjadi, nama, jalan, di, belanda, .]\n[jenderal, gatot, subroto, menjadi, nama, jalan, utama, di, jakarta, ,, jalan, gatot, subroto, .]\n[sebagai, bentuk, penghormatan, atas, jasa, -, jasa, perjuangan, ,, pemerintah, kabupaten, rokan, hulu, (, rohul, ), mengusulkan, perubahan, nama, bandar, udara, pasir, pengaraian, menjadi, bandar, udara, tuanku, tambusai, rokan, hulu, .]\n[pahlawan, nasional, asal, biak, barat, frans, kaisiepo, diabadikan, menjadi, nama, bandara, internasional, di, papua, ,, bandar, udara, frans, kaisepo]\n[banyak, yang, tidak, setuju, dengan, pergantian, nama, bandara, lombok, menjadi, bandara, internasional, lombok, zainuddin, abdul, madjid, .]\n[nama, pahlawan, depati, amir, menjadi, nama, bandara, di, pangkal, pinang, ,, bandara, depati, amir, .]\n[nama, bandara, sultan, iskandar, muda, diambil, dari, nama, sultan, iskandar, muda, ,, seorang, pahlawan, nasional, indonesia, dari, aceh, .]\n[perubahan, nama, bandar, udara, sentani, ,, jayapura, menjadi, bandar, udara, theys, elluay, sudah, mendapat, lampu, hijau, dari, pemerintah, pusat, .]\n[secara, resmi, nama, bandara, di, kabupaten, seruyan, menjadi, bandara, kapten, mulyono, .]\n[pt, angkasa, pura, secara, resmi, menyempurnakan, nama, bandara, internasional, ahmad, yani, semarang, menjadi, bandara, internasional, jenderal, ahmad, yani, semarang, .]\n[di, kota, meksiko, terdapat, sebuah, taman, yang, diberi, nama, soekarno, park, atau, soekarno, parque, .]\n[di, rusia, terdapat, sebuah, masjid, yang, bernama, blue, mosque, alias, masjid, soekarno, .]\n[nama, ir, ., h, ., juanda, juga, diabadikan, sebagai, nama, sebuah, taman, yaitu, taman, hutan, rakyat, (, thr, ), ir, ., h, ., juanda, .]\n[jika, kamu, berkunjung, ke, pulau, jeju, ,, korea, selatan, ,, kamu, bisa, mampir, di, sebuah, taman, bernama, megawati, garden, yang, namanya, diambil, dari, nama, presiden, ke, -, lima, indonesia, ,, megawati, soekarnoputri, .]\n[nama, gatot, subroto, diabadikan, sebagai, nama, jalan, di, jakarta, yang, memiliki, panjang, 6, ,, 7, km, dari, tugu, pancoran, sampai, pejompongan, .]\n[di, jakarta, ,, nama, jenderal, sudirman, digunakan, sebagai, nama, jalan, kawasan, di, jantung, ibu, kota, ,, jalan, sudirman, .]\n[nama, dewi, sartika, di, kota, bandung, namanya, diabadikan, sebagai, nama, jalan, dewi, sartika, atau, masyarakat, bandung, lebih, mengenalnya, sebagai, alun, -, alun, bandung, atau, kebon, kalapa, .]\n[nama, sutan, syahrir, kemudian, diabadikan, sebagai, nama, jalan, di, tiga, tempat, berbeda, di, belanda, .]\n[ada, sebuah, masjid, bernama, masjid, soeharto, di, kota, sarajevo, ,, bosnia, -, herzegowina, .]\n[jl, ., soeroso, diambil, dari, pahlawan, bernama, lengkap, raden, pandjie, soeroso, .]\n[di, kota, bandung, nama, moch, ., toha, diabadikan, sebagai, jalan, moch, ., toha, yang, terbentang, mulai, dari, jalan, pungkur, ,, tegallega, ,, sampai, dengan, perbatasan, dayeuhkolot, .]\n[ir, ., h, ., juanda, dijadikan, nama, jalan, di, kota, bandung, dan, lebih, dikenal, sebagai, jalan, dago, .]\n[nama, raden, eddy, martadinata, kini, diabadikan, sebagai, nama, jalan, di, kota, bandung, dengan, nama, jalan, l, ., l, ., r, ., e, martadinata, .]\n[nama, otto, iskandardinata, juga, diabadikan, sebagai, nama, jalan, di, kota, bandung, ,, jalan, otto, iskandardinata, .]\n[pantai, kartini, adalah, satu, destinasi, wisata, di, jepara, yang, terkenal, selalu, ramai, dikunjungi, wisatawan, ., kota, ini, juga, merupakan, tempat, kelahiran, pahlawan, nasional, wanita, r, ., a, ., kartini, .]\n[nama, mendiang, presiden, pertama, republik, indonesia, ,, ir, ., soekarno, dijadikan, nama, sebuah, masjid, di, saint, petersburg, ,, rusia, .]\n[kebun, megawati, itu, merupakan, simbol, hubungan, sekaligus, penghargaan, korea, selatan, terhadap, indonesia, ,, yang, diperuntukkan, kepada, presiden, ke-lima, indonesia, ,, megawati, soekarnoputri, .]\n[patung, jendral, sudirman, terpampang, di, halaman, kantor, kementerian, pertahanan, jepang, di, kota, tokyo, untuk, mengenang, jasa, jendral, sudirman, dalam, menjembatani, hubungan, antara, indonesia, dan, jepang, .]\n[masjid, soeharto, di, otoka, ,, sarajevo, ,, bosnia, -, herzegovina, didanai, oleh, pemerintah, indonesia, saat, soeharto, menjabat, menjadi, presiden, indonesia, .]\n[taman, soekarno, park, dibangun, sebagai, apresiasi, meksiko, terhadap, presiden, pertama, indonesia, ,, ir, ., soekarno, yang, dianggap, sebagai, tokoh, perdamaian, dunia, .]\n[penamaan, jalan, presiden, joko, widodo, merefleksikan, hubungan, erat, indonesia, â€“, uea, ,, sekaligus, sebagai, bentuk, penghormatan, pemerintah, uea, kepada, presiden, joko, widodo, dalam, memajukan, hubungan, bilateral, indonesia, â€“, uea, .]\n[nama, dari, sosok, pejuang, kemerdekaan, dengan, nama, lengkap, yosaphat, sudarso, ini, juga, diabadikan, dengan, menjadi, nama, sebuah, bandar, udara, internasional, di, semarang, ,, bandara, internasional, yos, sudarso, .]\n[nama, bandara, internasional, juanda, diambil, dari, salah, satu, pahlawan, nasional, ,, yaitu, ir, ., raden, haji, juanda, kartawijaya, .]\n[nama, bandara, halim, perdanakusuma, diambil, dari, salah, satu, pahlawan, nasional, indonesia, ,, yakni, abdul, halim, perdanakusuma, .]\n[bandara, adisucipto, yang, namanya, diambil, dari, agustinus, adisucipto, ,, masih, beroperasi, walaupun, bandara, kulon, progo, sudah, beroperasi, .]\n[nama, ahmad, abad, di, afganistan, diambil, dari, nama, ahmad, shah, massoud, ,, seorang, politisi, dan, komandan, militer, afganistan, yang, meninggal, pada, tahun, 2001, .]\n[kabupaten, jayawijaya, ,, papua, ,, menggunakan, dua, nama, penjaga, gerbang, di, tempat, tinggal, wisnu, ,, jaya, dan, wijaya, .]\n[jalan, fatmawati, yang, terdapat, di, beberapa, kota, besar, di, indonesia, ,, mengambil, nama, dari, fatmawati, ,, salah, satu, istri, presiden, soekarno, .]\n[nama, halim, perdanakusuma, selain, digunakan, sebagai, nama, bandara, internasional, di, jakarta, ,, juga, digunakan, sebagai, nama, jalan, di, beberapa, kota, di, indonesia, ,, salah, satunya, di, banten, ,, jalan, halim, perdanakusuma, .]\n[jayapura, dulunya, bernama, sukarnapura, ,, diambil, dari, nama, presiden, pertama, indonesia, ,, ir, ., soekarno, .]\n[terdapat, museum, sudirman, yang, berlokasi, di, kota, magelang, ,, diambil, dari, nama, jendral, sudirman, .]\n[kamu, bisa, berkunjung, ke, museum, monumen, pangeran, diponegoro, di, kota, yogyakarta, ,, diambil, dari, nama, pangeran, diponegoro, .]\n[museum, tuanku, imam, bonjol, dibangun, untuk, menyimpan, alat-alat, serta, barang, yang, digunakan, pahlawan, nasional, tuanku, imam, bonjol, .]\n[museum, m, ., h, ., thamrin, merupakan, salah, satu, museum, sejarah, perjuangan, kemerdekaan, republik, indonesia, yang, berada, di, jakarta, pusat, ,, dinamai, dari, muhammad, husni, thamrin, .]\n[napak, tilas, perjuangan, tokoh, emansipasi, ,, r, ., a, ., kartini, bisa, kamu, saksikan, di, museum, r, ., a, ., kartini, .]\n[museum, bung, karno, berlokasi, di, kota, blitar, ,, didedikasikan, untuk, mengenang, jasa, soekarno, .]\n[museum, rumah, kelahiran, bung, hatta, berada, di, kota, bukittinggi, ,, sumatera, barat, .]\n[museum, agung, bung, karno, beralamat, di, jalan, raya, puputan, ,, denpasar, .]\n[salah, satu, tempat, wisata, alam, di, madura, bernama, goa, soekarno, ,, diambil, dari, nama, ir, ., soekarno, .]\n[bung, karno, memiliki, tempat, merenung, yang, kini, juga, menjadi, daya, tarik, wisatawan, ,, tepatnya, di, taman, renungan, bung, karno, .]\n[taman, ismail, marzuki, ramai, dikunjungi, orang, ,, juga, dinamai, dari, ismail, marzuki, .]\n[asal, nama, pulau, hatta, merupakan, dari, nama, wakil, presiden, pertama, indonesia, ,, yaitu, muhammad, hatta, .]\n[salah, satu, puncak, pegunungan, jayawijaya, dinamai, puncak, soekarno, ,, nama, yang, diambil, dari, presiden, pertama, indonesia, ,, ir, ., soekarno, .]\n"
     ]
    }
   ],
   "source": [
    "# Kalimat yang termasuk dari akurasi\n",
    "for x in sentences:\n",
    "     print('[%s]' % ', '.join(map(str, x)))"
   ]
  }
 ]
}