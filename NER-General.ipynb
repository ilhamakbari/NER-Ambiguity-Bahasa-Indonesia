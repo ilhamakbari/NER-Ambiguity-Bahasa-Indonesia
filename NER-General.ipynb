{
 "metadata": {
  "language_info": {
   "codemirror_mode": {
    "name": "ipython",
    "version": 3
   },
   "file_extension": ".py",
   "mimetype": "text/x-python",
   "name": "python",
   "nbconvert_exporter": "python",
   "pygments_lexer": "ipython3",
   "version": "3.8.5"
  },
  "orig_nbformat": 2,
  "kernelspec": {
   "name": "python3",
   "display_name": "Python 3.8.5 64-bit"
  },
  "metadata": {
   "interpreter": {
    "hash": "965ba1120b0c101b3f715b6e258a73742ec1cf86f2c8b04492724c87d9f112c3"
   }
  },
  "interpreter": {
   "hash": "965ba1120b0c101b3f715b6e258a73742ec1cf86f2c8b04492724c87d9f112c3"
  }
 },
 "nbformat": 4,
 "nbformat_minor": 2,
 "cells": [
  {
   "cell_type": "code",
   "execution_count": 1,
   "metadata": {},
   "outputs": [],
   "source": [
    "# Fungsi untuk membaca data train \n",
    "# Membuat tag_count, word_tag, tag_trans untuk menghitung transition probability dan emission probability\n",
    "def read_file_init_table(fname):\n",
    "    tag_count = {}\n",
    "    tag_count['<start>'] = 0\n",
    "    word_tag = {}\n",
    "    tag_trans = {}\n",
    "        \n",
    "    with open(fname) as f:\n",
    "        content = f.readlines()\n",
    "\n",
    "    content = [x.strip() for x in content]\n",
    "    content = [l.lower() for l in content]\n",
    "    idx_line = 0\n",
    "    is_first_word = 0\n",
    "    \n",
    "    while idx_line < len(content):\n",
    "        prev_tag = '<start>'\n",
    "        while not content[idx_line].startswith('</kalimat'):\n",
    "            if  not content[idx_line].startswith('<kalimat'):\n",
    "                content_part = content[idx_line].split('\\t')\n",
    "                if content_part[1] in tag_count:\n",
    "                    tag_count[content_part[1]] += 1\n",
    "                else:\n",
    "                    tag_count[content_part[1]] = 1\n",
    "                    \n",
    "                current_word_tag = content_part[0] + '|' + content_part[1]\n",
    "                if current_word_tag in word_tag:\n",
    "                    word_tag[current_word_tag] += 1\n",
    "                else:    \n",
    "                    word_tag[current_word_tag] = 1\n",
    "                    \n",
    "                    \n",
    "                if is_first_word == 1:\n",
    "                    current_tag_trans = '<start>' + '|' + content_part[1]\n",
    "                    is_first_word = 0\n",
    "                else:\n",
    "                    current_tag_trans = prev_tag + '|' + content_part[1]\n",
    "                    \n",
    "                if current_tag_trans in tag_trans:\n",
    "                    tag_trans[current_tag_trans] += 1\n",
    "                else:\n",
    "                    tag_trans[current_tag_trans] = 1                    \n",
    "                prev_tag = content_part[1]                   \n",
    "            else:\n",
    "                tag_count['<start>'] += 1\n",
    "                is_first_word = 1\n",
    "            idx_line = idx_line + 1\n",
    "\n",
    "        prev_tag = '<end>'\n",
    "        if prev_tag in tag_count:\n",
    "            tag_count[prev_tag] += 1\n",
    "        else:\n",
    "            tag_count[prev_tag] = 1\n",
    "        current_tag_trans = content_part[1] + '|' + prev_tag\n",
    "        if current_tag_trans in tag_trans:\n",
    "            tag_trans[current_tag_trans] += 1\n",
    "        else:\n",
    "            tag_trans[current_tag_trans] = 1                     \n",
    "            \n",
    "        idx_line = idx_line+1       \n",
    "    return tag_count, word_tag, tag_trans"
   ]
  },
  {
   "cell_type": "code",
   "execution_count": 2,
   "metadata": {},
   "outputs": [],
   "source": [
    "# Fungsi untuk membaca datatest dan menjadikan array yang berisi kata-kata yang sudah di-split di satu kalimat \n",
    "# beserta kumpulan tag dari kata-kata tersebut, kemudian diubah ke lower-case\n",
    "def read_datatest(fname):\n",
    "    sentences = []\n",
    "    tags = []\n",
    "    with open(fname) as f:\n",
    "        content = f.readlines()\n",
    "        \n",
    "    content = [x.strip() for x in content]\n",
    "    content = [x.lower() for x in content]\n",
    "    idx_line = 0\n",
    "    while idx_line < len(content):\n",
    "        sen = []\n",
    "        tag = []\n",
    "        while not content[idx_line].startswith('</kalimat'):\n",
    "            if  not content[idx_line].startswith('<kalimat'):\n",
    "                content_part = content[idx_line].split('\\t')\n",
    "                sen.append(content_part[0])\n",
    "                tag.append(content_part[1])\n",
    "            idx_line = idx_line + 1\n",
    "        sentences.append(sen)\n",
    "        tags.append(tag)\n",
    "        idx_line = idx_line+2        \n",
    "    return sentences, tags"
   ]
  },
  {
   "cell_type": "code",
   "execution_count": 3,
   "metadata": {},
   "outputs": [],
   "source": [
    "# Membaca datatrain\n",
    "tag_count, word_tag, tag_trans = read_file_init_table('datatrain.txt')\n",
    "\n",
    "# print(tag_count)\n",
    "# print(word_tag)\n",
    "# print(tag_trans)"
   ]
  },
  {
   "cell_type": "code",
   "execution_count": 4,
   "metadata": {},
   "outputs": [],
   "source": [
    "# Membaca datatest\n",
    "sentences, tags = read_datatest('datatest-sesuaitrain.txt')"
   ]
  },
  {
   "cell_type": "code",
   "execution_count": 5,
   "metadata": {},
   "outputs": [],
   "source": [
    "# Fungsi untuk menghitung transition probability\n",
    "def create_trans_prob_table(tag_trans, tag_count):\n",
    "    trans_prob = {}\n",
    "    for tag1 in tag_count.keys():\n",
    "        for tag2 in tag_count.keys():\n",
    "            trans_idx = tag1 + '|' + tag2\n",
    "            if trans_idx in tag_trans:\n",
    "                trans_prob[trans_idx] = tag_trans[trans_idx]/tag_count[tag1]\n",
    "    return trans_prob"
   ]
  },
  {
   "cell_type": "code",
   "execution_count": 6,
   "metadata": {},
   "outputs": [],
   "source": [
    "trans_prob = create_trans_prob_table(tag_trans, tag_count)"
   ]
  },
  {
   "cell_type": "code",
   "execution_count": 7,
   "metadata": {},
   "outputs": [],
   "source": [
    "# Fungsi untuk menghitung emission probability\n",
    "def create_emission_prob_table(word_tag, tag_count):\n",
    "    emission_prob = {}\n",
    "    for word_tag_entry in word_tag.keys():\n",
    "        word_tag_split = word_tag_entry.split('|')\n",
    "        current_word = word_tag_split[0]\n",
    "        current_tag = word_tag_split[1]\n",
    "        if word_tag_entry != '' and current_tag != '' :\n",
    "            emission_key = current_word + '|' + current_tag\n",
    "            emission_prob[emission_key] = word_tag[word_tag_entry]/tag_count[current_tag]    \n",
    "    return emission_prob"
   ]
  },
  {
   "cell_type": "code",
   "execution_count": 8,
   "metadata": {},
   "outputs": [],
   "source": [
    "emission_prob = create_emission_prob_table(word_tag, tag_count)"
   ]
  },
  {
   "cell_type": "code",
   "execution_count": 9,
   "metadata": {},
   "outputs": [],
   "source": [
    "# Mencari key dari suatu kata di dalam tabel transition probability atau emission probability\n",
    "def has_key(dictionary, string):\n",
    "    return [k for k,v in dictionary.items() if (string) == k.split('|')[0]]"
   ]
  },
  {
   "cell_type": "code",
   "execution_count": 10,
   "metadata": {},
   "outputs": [],
   "source": [
    "# Viterbi.....\n",
    "def viterbi(trans_prob, emission_prob, sentence_words):\n",
    "    # initialization\n",
    "    viterbi_matrix = [{}]\n",
    "    tag_sequence = [{}]\n",
    "    \n",
    "    # Mencari tag untuk kata pertama setelah start\n",
    "    key_emis = has_key(emission_prob, sentence_words[0])\n",
    "    tag_em = [k.split('|')[1] for k in key_emis]\n",
    "    key_trans = has_key(trans_prob, '<start>')\n",
    "    tag_tr = [k.split('|')[1] for k in key_trans]\n",
    "    \n",
    "    # Menghitung probabilitas setiap tag dari start\n",
    "    for j in range(0,len(tag_em)):\n",
    "        if tag_em[j] in tag_tr:\n",
    "            prob = (emission_prob.get(key_emis[j]) * trans_prob.get('<start>'+'|'+tag_em[j]))\n",
    "            viterbi_matrix[0][tag_em[j]] = prob\n",
    "\n",
    "    # HMM untuk tag kata dari kata kedua sampai kata terakhir\n",
    "    for i in range(1,len(sentence_words)):\n",
    "        viterbi_matrix.append({})\n",
    "        tag_sequence.append({})\n",
    "        \n",
    "        # Mencari tag untuk kata ke-i\n",
    "        key_emis = has_key(emission_prob, sentence_words[i])\n",
    "        tag_em = [k.split('|')[1] for k in key_emis]\n",
    "        \n",
    "        # Menghitung probabilitas tag dari tag sebelumnya dan mencari probabilitas terbesar tag\n",
    "        for j in range(0,len(tag_em)):\n",
    "            prob = {}\n",
    "            for k in viterbi_matrix[i-1] :\n",
    "                if(trans_prob.get(k+'|'+tag_em[j])) == None:\n",
    "                    prob[k] = 0\n",
    "                else:\n",
    "                    prob[k] = viterbi_matrix[i-1][k] * trans_prob.get(k+'|'+tag_em[j]) * emission_prob.get(key_emis[j])\n",
    "\n",
    "            viterbi_matrix[i][tag_em[j]] = max(prob.values())\n",
    "            tag_sequence[i][tag_em[j]] = max(prob, key = prob.get)\n",
    "            \n",
    "\n",
    "    # Menghitung probabilitas kata terakhir ke end\n",
    "    prob = {}\n",
    "    viterbi_matrix.append({})\n",
    "    for k in viterbi_matrix[i]:\n",
    "        key_trans = [k for k,v in trans_prob.items() if k.endswith('<end>')]\n",
    "        tag_tr = [k.split('|')[0] for k in key_trans]\n",
    "        if k in tag_tr:\n",
    "            prob[k] = viterbi_matrix[i][k] * trans_prob.get(k+'|'+'<end>')\n",
    "        else:\n",
    "            prob[k] = 0\n",
    "    \n",
    "    # Backward mencari tag kata dengan probabilitas yang terbesar\n",
    "    m = 0\n",
    "    tag = []\n",
    "    tag.append(max(prob, key = prob.get))\n",
    "    for l in range(len(tag_sequence)-1,0,-1):\n",
    "        tag.append(tag_sequence[l].get(tag[m]))\n",
    "        m += 1\n",
    "    tag.reverse()   \n",
    "    \n",
    "    return tag"
   ]
  },
  {
   "cell_type": "code",
   "execution_count": 11,
   "metadata": {},
   "outputs": [],
   "source": [
    "# Predict label dari setiap kata menggunakan viterbi\n",
    "tag_predicted = []\n",
    "\n",
    "for s in sentences:\n",
    "    tag_predicted.append(viterbi(trans_prob, emission_prob, s))"
   ]
  },
  {
   "cell_type": "code",
   "execution_count": 12,
   "metadata": {},
   "outputs": [],
   "source": [
    "# Save model ke text file\n",
    "transmodel = open('transmodel.txt', 'wt')\n",
    "transmodel.write(str(trans_prob))\n",
    "transmodel.close()\n",
    "\n",
    "emissionmodel = open('emissionmodel.txt', 'wt')\n",
    "emissionmodel.write(str(emission_prob))\n",
    "emissionmodel.close()"
   ]
  },
  {
   "cell_type": "code",
   "execution_count": 13,
   "metadata": {},
   "outputs": [],
   "source": [
    "# Akurasi\n",
    "def measure_accuraccy(tag_predicted, tags):\n",
    "    accu = []\n",
    "    for predict in range(len(tag_predicted)):\n",
    "        same = 0\n",
    "        for p in range(len(tag_predicted[predict])):\n",
    "            if (tag_predicted[predict][p] == tags[predict][p]):\n",
    "                same += 1\n",
    "        accu.append(same / len(tag_predicted[predict]))\n",
    "        # print(same)\n",
    "    return (sum(accu)/len(accu))"
   ]
  },
  {
   "cell_type": "code",
   "execution_count": 14,
   "metadata": {},
   "outputs": [
    {
     "output_type": "stream",
     "name": "stdout",
     "text": [
      "Akurasi Viterbi :  0.9887164180926086\n"
     ]
    }
   ],
   "source": [
    "accuraccy = measure_accuraccy(tag_predicted, tags)\n",
    "print('Akurasi Viterbi : ', accuraccy)"
   ]
  },
  {
   "cell_type": "code",
   "execution_count": 15,
   "metadata": {},
   "outputs": [
    {
     "output_type": "stream",
     "name": "stdout",
     "text": [
      "[walt, disney, pictures, dan, pixar, animation, studio, baru, saja, secara, resmi, mengumumkan, jadwal, rilis, sekuel, film, tersebut, .]\n[akankah, pan, dan, golkar, yang, tidak, tergabung, dalam, koalisi, indonesia, hebat, masuk, dalam, jajaran, kabinet, jika, reshuffle, dilakukan, ?]\n[madrid, yang, mengejar, ketertinggalan, di, sisa, 65, menit, pertandingan, tak, berhasil, mencetak, satu, gol, pun, dan, harus, menyerah, 0, -, 2, .]\n[\", saya, yakin, saya, bisa, ke, pentas, f-3, sampai, f-1, dalam, waktu, tiga, -, empat, tahun, ke, depan, dengan, dukungan, penuh, dari, semua, pihak, ,, \", tandas, rio, yang, ditemani, menteri, negara, pemuda, dan, olah, raga, adhyaksa, dault, di, wisma, mulia, ,, jakarta, ,, selasa, (, 18/8/2009, ), .]\n[bahkan, west, ham, united, juga, berharap, mantan, pemain, depan, juventus, ,, inter, milan, ,, barcelona, ,, dan, ac, milan, itu, mau, bermain, bersama, mereka, sebelum, kariernya, tuntas, .]\n[meski, cuma, menguasai, bola, sebesar, 42, %, dan, cuma, mengarahkan, 10, upaya, ,, mereka, malah, berhasil, mencatatkan, tujuh, percobaan, ke, arah, gawang, .]\n[seperti, diketahui, ,, apple, dan, samsung, saling, menggugat, di, sejumlah, negara, .]\n[kalau, dibalikin, gitu, bagaimana, ,, pak, ?, \", kata, yusril, di, depok, ,, jawa, barat, ,, sabtu, (, 30/4/2016, ), .]\n[bahkan, west, ham, united, juga, berharap, mantan, pemain, depan, juventus, ,, inter, milan, ,, barcelona, ,, dan, ac, milan, itu, mau, bermain, bersama, mereka, sebelum, kariernya, tuntas, .]\n[dalam, enam, pertandingan, ke, depan, ,, leicester, akan, bertanding, melawan, sunderland, (, tandang, ), ,, west, ham, united, (, kandang, ), ,, swansea, city, (, kandang, ), ,, manchester, united, (, tandang, ), ,, everton, (, kandang, ), ,, dan, chelsea, (, tandang, ), .]\n[selama, tujuh, tahun, bersama, klopp, ,, die, borussen, meraih, dua, gelar, bundesliga, ,, satu, titel, dfb, -, pokal, ,, dan, dua, gelar, piala, super, jerman, .]\n[baru, ini, pemerintah, memutuskan, untuk, merelokasi, starone, dan, flexi, milik, pt, telkom, ,, dari, frekuensi, 3g.]\n[sebelumnya, ,, astratel, menjadi, mitra, kerja, pt, telkom, tbk, untuk, wilayah, kerja, sama, operasi, (, kso, ), i, sumatera, dalam, pramindo, ikat, nusantara, .]\n[tapi, kita, juga, punya, kemampuan, ,, \", tandas, mantan, menteri, pemberdayaan, bumn, ini, .]\n[dijelaskan, ,, alasan, utama, telkom, ingin, menghapuskan, pencatatan, atau, delisting, saham, telkom, adalah, hadirnya, aturan, sarbanes, -, oxley, act, of, 2002, yang, dirasakan, cukup, berat, .]\n[cuma, sayangnya, bumn, yang, dari, luar, kelihatan, kokoh, perkasa, ini, sebenarnya, keropos, di, dalam, .]\n[bukan, saja, telkom, akan, menjadi, besar, dan, kapitalisasinya, naik, 300, %, dalam, 5, tahun, seperti, diharapkannya, ,, masyarakat, indonesia, pun, ,, yang, mendapatkan, layanan, telekomunikasi, murah, dan, berkualitas, ,, bakal, sangat, berterima, kasih, kepadanya, .]\n[anak, perusahaan, pt, pln, (, persero, ), ,, pt, indonesia, comnets, plus, (, icon+, ), sedang, mempersiapkan, inovasi, agar, pelanggan, listrik, pln, bisa, langsung, menikmati, layanan, telepon, .]\n[sebelumnya, dalam, peraturan, menteri, (, permen, ), komunikasi, dan, informatika, (, kominfo, ), nomor, 6, tahun, 2005, ,, kode, akses, sljj, bagi, telkom, dengan, awalan, prefix, 017, .]\n[secara, keseluruhan, ,, telkom, mengalami, peningkatan, jumlah, menit, sli, menjadi, 65, juta, pada, semester, pertama, 2005, ,, dari, 57,8, juta, pada, semester, kedua, 2004, .]\n[dari, tujuh, divre, yang, ada, ,, lima, di, antaranya, dikerjakan, dalam, bentuk, kso, ,, yaitu, divre, i, sumatera, dengan, pt, pramindo, ikat, nusantara, .]\n[telkomsel, juga, membuka, layanan, tersebut, dalam, basis, sms, dan, dibagi, menjadi, 2, cara, ,, yakni, melalui, sms, update, dan, sms, request, .]\n[saat, ini, di, kourou, (, guyana, ,, prancis, /, tempat, peluncuran, telkom-2, -, red, ), sendiri, ,, ada, beberapa, perbaikan, yang, harus, diselesaikan, .]\n[\", tapi, kalau, siang, siapa, saja, boleh, pakai, ,, karena, bukan, saya, yang, bayar, tagihannya, ,, melainkan, pt, barito, pacific, timber, ,, \", kata, dia, .]\n[pt, pos, memiliki, 216, kantor, pos, induk, ,, 1.064, kantor, pos, cabang, dalam, kota, ,, 2.628, kantor, pos, cabang, luar, kota, ,, serta, 16.392, kantor, pos, cabang, .]\n[keduanya, adalah, direktur, sumber, daya, manusia, (, sdm, ), pt, telkom, tbk, ,, jhon, welly, yang, menjadi, tersangka, kasus, manipulasi, pulsa, dalam, bisnis, interkoneksi, voice, over, internet, protocol, (, voip, ), .]\n[\", finnet, dibentuk, untuk, menangkap, peluang, bisnis, di, bidang, penyedia, data, keuangan, dan, jaringan, perbankan, ,, \", kata, kepala, unit, hubungan, investor, telkom, ,, rochiman, sukarno, dalam, penjelasan, tertulis, ,, rabu, (, 1/2/2006, ), .]\n[\", untuk, urusan, meng, -, connect, -, kan, ,, bukan, global, comm, yang, melakukan, ,, itu, wilayah, telkom, ,, \", ujar, teguh, samudera, .]\n[perkembangan, terbaru, ,, direktur, konsumer, pt, telkom, guntur, siregar, ditetapkan, menjadi, tersangka, ., penetapan, tersangka, baru, ini, disampaikan, kapolda, jawa, barat, irjen, pol, edi, darnadi, kepada, wartawan, usai, mengikuti, acara, di, sespim, polri, lembang, ,, jawa, barat, ,, rabu, (, 15/2/2006).\"tersangka]\n[setelah, melalui, berbagai, uji, coba, ,, satelit, telkom-2, resmi, beroperasi, jumat, (, 24/02/2006, ), .]\n[pihak, telkom, divre, ii, mengatakan, ,, kasus, -, kasus, seperti, di, atas, banyak, terjadi, di, bogor, ,, jawa, barat, dan, belakangan, merambat, ke, wilayah, jakarta, selatan, .]\n[\", ini, (, soal, petir, ), kan, seharusnya, hal, yang, bisa, diantisipasi, oleh, perusahaan, sekelas, telkom, .]\n[eddy, menjelaskan, ,, kemungkinan, penyebab, keterlambatan, itu, adalah, karena, telkom, harus, mengadopsi, pedoman, sistem, akuntasi, keuangan, (, psak, ), 38, tentang, akuntansi, restrukturisasi, entitas, sepengendali, \", mau, tidak, mau, ,, ada, proses, (, revisi, ), yang, harus, dilalui, ,, \", kata, eddy, .]\n[jadi, misalnya, ,, meski, keuntungan, cuma, rp, 10.000, pun, ,, asal, di, atas, biaya, cost, ya, tetap, aman, ,, \", kata, kuan, moon, di, gedung, telkomsel, regional, atrium, mulia, kuningan, jakarta, kepada, detikinet, baru, -, baru, ini, .]\n[indosat, tbk, ,, data, tersebut, membutuhkan, 200, gb, ruang, penyimpanan, per, bulan, ,, hanya, untuk, percakapan, pascabayarnya, saja, ,, hal, tersebut, diungkap, muhammad, affandi, ,, vice, president, data, center, &, system, management, ,, pt, .]\n[pt, excelcomindo, (, 10.10, wib, ), ,, terdapat, 8, bts, yang, tidak, berfungsi, .]\n[film, animasi, komputer, 3d, dari, disney, -, pixar, ini, adalah, prekuel, monsters, ,, inc., (, 2001, ), .]\n[pasangan, yang, pernah, menjalin, cinta, itu, sama, -, sama, mendapatkan, penghargaan, dalam, ajang, ', radio, disney, music, award, 2013, ', yang, digelar, di, los, angeles, ,, 27, april, .]\n[presiden, distribusi, disney, dave, hollis, berharap, ', iron, man, 3, ', bisa, melampaui, pendapatan, domestik, ', the, avengers, ', yang, mencapai, $, 207.4, juta, .]\n[sebelumnya, ,, scott, merupakan, mantan, cio, .]\n[walt, disney, pictures, dan, pixar, animation, studio, baru, saja, secara, resmi, mengumumkan, jadwal, rilis, sekuel, film, tersebut, .]\n[meski, pasar, konsol, game, portable, telah, lebih, dulu, dihuni, oleh, seri, nintendo, ds, dan, seri, playstation, portable, ,, tampaknya, disney, cukup, percaya, diri, melanjutkan, pengembangan, konsol, game, portable, miliknya, mengingat, banyaknya, judul, game, populer, yang, dimilikinya, .]\n[disney, menuduh, tim, burton, menyia, -, nyiakan, sumber, daya, studio, dan, menilai, film, itu, \", terlalu, menyeramkan, \", .]\n[walt, disney, pictures, mengatakan, ,, ', maleficent, ', akan, menceritakan, kisah, yang, belum, pernah, diungkapkan, dari, tokoh, jahat, disney, yang, paling, dicintai, dari, cerita, klasik, \", sleeping, beauty, \", (, 1959, ), .]\n[disney, biasanya, memboyong, karakter, dari, film, ke, dalam, sebuah, game, dan, ini, adalah, kali, pertama, disney, membuat, karakter, yang, berdiri, sendiri, .]\n[film, yang, diputar, perdana, pada, 12, juni, 2010, lalu, itu, dirilis, dengan, format, disney, digital, 3, -, d, ,, reald, dan, imax, 3d.]\n[bahkan, ,, he, d, mengatakan, ,, sudah, ada, yang, mengusulkan, pihaknya, membuat, taman, hiburan, alias, theme, park, ala, disneyland, .]\n[jika, tanggal, tersebut, lewat, ,, hak, cipta, layar, lebar, yang, juga, dibintangi, eva, mendes, itu, akan, jatuh, ke, tangan, marvel, dan, disney, .]\n[dikutip, detikinet, dari, cnet, ,, rabu, (, 2/12/2009, ), ,, chat, logs, yang, dicurigai, disney, ini, berada, dalam, website, yang, dibuat, carson, atas, kecintaannya, terhadap, game, keluaran, disney, itu, .]\n[beberapa, waktu, lalu, penyanyi, remaja, jebolan, disney, ini, memutuskan, hengkang, dari, twitter, .]\n[bintang, disney, ashley, tisdale, pun, bisa, tampak, feminin, dengan, gaun, tie, dye, one, shoulder, -, nya, .]\n[ketika, umur, 11, britney, kembali, mengajukan, diri, bergabung, dengan, disney, channel, dan, diterima, .]\n[film, disney, itu, terus, -, terusan, berhasil, menjadi, box, office, hingga, sekuel, keduanya, .]\n[dikarenakan, pinewood, merupakan, perusahaan, inggris, ,, disney, pun, menilai, imej, film, ini, sebaiknya, diambil, di, inggris, juga, .]\n[san, francisco, -, menurut, apple, computer, inc., ,, pihaknya, bakal, memulai, penjualan, download, film, yang, digarap, studio, film, walt, disney, co, .]\n[tak, heran, bila, disney, rela, merogoh, koceknya, us$, 5, juta, dollar, hanya, untuk, menulis, ', signs, ', .]\n[mulai, pekan, ini, tiket, masuk, disneyland, hong, kong, sudah, mulai, dijual, .]\n[\", trailer, untuk, film, ', ice, princess, ', diputar, sebelum, ', the, pacifier, ', ,, karena, itu, audien, yang, melihat, akan, terdorong, untuk, menyaksikan, film, tersebut, selama, liburan, ,, \", kata, chuk, viane, ,, kepala, distribusi, disney, dilansir, afp, .]\n[ditambah, dengan, tiga, minggu, sebelumnya, ,, total, pendapatan, film, garapan, disney, ini, tak, kurang, dari, us, $, 72,3, juta, .]\n[double, fault, federer, di, gim, kesepuluh, memberikan, break, point, pada, djokovic, .]\n[murray, mengatasi, jeremy, chardy, ,, sementara, federer, menaklukkan, gael, monfils, bermain, di, lapangan, suzanne, -, lenglen, ,, senin, (, 1/6/2015, ), malam, wib, ,, harus, bermain, empat, set, untuk, menang, dengan, hasil, akhir, 6, -, 4, ,, 3, -, 6, ,, 6, -, 3, ,, dan, 6, -, 2, .]\n[namun, kemenangan, monfils, atas, federer, di, hari, jumat, membuat, kedudukan, jadi, sama, kuat, 1, -, 1, .]\n[pasalnya, ,, federer, dan, wawrinka, jadi, andalan, swiss, dalam, mencari, trofi, piala, davis, pertamanya, dengan, melawan, prancis, pada, pekan, depan, .]\n[melawan, djokovic, ,, federer, masih, unggul, head, to, head, dengan, rekor, 19, -, 17, .]\n[di, semifinal, ,, djokovic, menundukkan, roger, federer, sedangkan, ferrer, menundukkan, rafael, nadal, .]\n[ayah, dari, novak, djokovic, ,, srdjan, ,, belum, lama, ini, melontarkan, kecaman, terhadap, dua, rival, putranya, ,, rafael, nadal, dan, roger, federer, .]\n[setelah, berhasil, merebut, set, kedua, ,, berdych, pun, membuat, federer, kesulitan, di, set, ketiga, dan, akhirnya, memenangi, pertarungan, .]\n[aksi, tersebut, dilakukan, setelah, muncul, ancaman, pembunuhan, yang, tertuju, pada, roger, federer, .]\n[namun, ,, sayangnya, dia, tidak, tinggal, untuk, menyaksikan, roger, (, federer, ), mewujudkan, peluangnya, ,, \", jelas, juru, bicara, william, hill, ,, graham, sharpe, ,, seperti, dilansir, reuters, .]\n[puncak, perhatian, itu, ,, sambung, budiman, ,, adalah, ketika, sebuah, artikel, harian, terkemuka, di, swiss, ,, basler, zeitung, !, ,, menuliskan, taufik, sebagai, \", roger, federer, dari, indonesia, \", .]\n[mantan, petenis, nomor, satu, dunia, roger, federer, menyentuh, angka, 1.000, untuk, pertandingannya, di, level, tour, .]\n[yang, pertama, adalah, jimmy, connors, pada, tahun, 1974, ,, mats, wilander, tahun, 1988, ,, roger, federer, di, tahun, 2004, ,, 2006, dan, 2007, ,, nadal, pada, tahun, 2010, lalu, dan, tahun, ini, ada, djokovic, .]\n[\", ini, lebih, mudah, daripada, yang, saya, duga, ,, \", kata, federer, ,, seperti, dilansir, reuters, .]\n[\", tetap, rafa, (, nadal, ), dan, roger, menjadi, dua, pemain, terbaik, dunia, .]\n[gelar, juara, dipastikan, menjadi, milik, roger, federer, setelah, menundukkan, rafael, nadal, dalam, duel, tiga, set, di, babak, final, .]\n[sejak, memulai, karirnya, di, level, profesional, di, tahun, 1998, ,, meskipun, sudah, berjaya, di, mana, ,, ini, adalah, kali, pertama, federer, meraih, gelar, juara, di, tanah, swedia, .]\n[lawan, yang, akan, dihadapi, djokovic, di, babak, semifinal, ini, adalah, pemenang, antara, roger, federer, dan, robin, soderling, .]\n[federer, yang, sempat, unggul, 5, -, 2, mulai, bisa, dikejar, oleh, chela, .]\n[tampil, di, final, hari, ini, ,, federer, telah, memenangi, 76, dari, 77, pertandingan, terakhirnya, di, lapangan, rumpur, semenjak, 2002, .]\n[tsonga, beberapa, kali, salah, langkah, sehingga, beberapa, kali, pukulan, federer, dinyatakan, masuk, .]\n[petenis, nomor, 1, dunia, roger, federer, juga, tidak, dapat, tampil, di, turnamen, ini, setelah, mengalami, kelelahan, .]\n[federer, lolos, yang, terakhir, setelah, mengalahkan, wawrinka, ,, yang, adalah, rekannya, saat, memenangi, medali, emas, di, nomor, ganda, putra, olimpiade, 2008, .]\n[federer, tak, lupa, menyanjung, roddick, yang, telah, membuatnya, harus, memeras, keringat, lebih, keras, untuk, bisa, menang, .]\n[maka, saat, nadal, disingkirkan, robin, soderling, di, babak, ketiga, lalu, ,, federer, seperti, sudah, memastikan, gelar, juaranya, yang, pertama, di, ronald, garros, .]\n[federer, yang, kelahiran, 1981, mengakui, kalau, persaingan, di, tahun, 2009, akan, makin, berat, .]\n[enam, petenis, lain, yang, juga, akan, berpartisipasi, dalam, turnamen, yang, hanya, diikuti, delapan, petenis, itu, adalah, rafael, nadal, ,, roger, federer, ,, novak, djokovic, ,, andy, murray, ,, andy, roddick, dan, davydenko, .]\n[menurunnya, pamor, federer, adalah, akibat, dari, kekalahan, yang, secara, beruntun, dideritanya, .]\n[padahal, tahun, lalu, federer, masih, menjadi, petenis, yang, menguasai, jagad, tenis, dunia, .]\n[sukses, juga, diraih, oleh, andy, murray, yang, pada, babak, pertama, mengalahkan, roger, federer, .]\n[walau, federer, unggul, dalam, duel, eksebisi, ', senior, -, junior, ', ini, ,, petenis, swiss, ini, masih, kalah, dari, sampras, dalam, hal, pengumpulan, tropi, grand, slam, .]\n[karena, faktor, usia, ,, mungkin, tak, banyak, yang, menjagokan, pete, sampras, bisa, mengalahkan, roger, federer, .]\n[dengan, kondisi, seperti, ini, laga, federer, kontra, roddick, akan, menentukan, siapa, yang, akan, memimpin, klasemen, grup, merah, .]\n[di, atas, lapangan, keras, shanghai, ,, federer, ditaklukkan, oleh, petenis, chile, fernando, gonzalez, .]\n[federer, sukses, mengatasi, petenis, jarkko, nieminen, 6, -, 3, 6, -, 4, guna, mempertahankan, gelar, di, kampung, halamannya, di, basel, ,, minggu, (, 29/10/2007, ), .]\n[sementara, federer, mengalami, kesulitan, saat, menghadapi, tommy, robredo, dan, nikolay, davidenko, di, perempatfinal, dan, semifinal, .]\n[federer, itupun, menjadi, banyak, perbincangan, yang, berujung, pujian, untuk, petenis, asal, swiss, tersebut, .]\n[kiefer, ,, walaupun, tersingkir, ,, paling, tidak, telah, sedikit, mencoreng, rekor, federer, .]\n[namun, dari, 10, pertemuannya, dengan, federer, ,, pemain, nomor, dua, dunia, itu, baru, menang, satu, kali, .]\n[jika, berhasil, mengatasi, lawannya, di, final, andy, roddick, ,, minggu, (, 3/7/2005, ), ,, maka, federer, akan, menjadi, petenis, ketiga, sejak, tahun, 1936, yang, mampu, menjadi, juara, wimbledon, tiga, kali, berturut, -, turut, ,, setelah, sampras, dan, borg, .]\n[federer, juga, memprediksi, bahwa, akan, terjadi, pertarungan, \", panas, \", antara, dia, dengan, nadal, ,, bercermin, dari, pertemuan, terakhir, mereka, di, miami, terbuka, beberapa, waktu, lalu, .]\n[namun, federer, yang, memang, unggul, kualitas, dan, pengalaman, mampu, mengatasi, suzuki, dengan, stright, set, 6, -, 3, 6, -, 4, dan, 6, -, 4, .]\n[di, babak, perempat, final, agassi, akan, bertemu, dengan, roger, federer, .]\n[sayang, hasil, sukses, tidak, bisa, diraih, pesaing, yang, dulu, sempat, mengekori, federer, ,, mark, philippoussis, .]\n[tidak, bisa, membendung, kegembiraannya, ,, federer, terduduk, di, kursi, pemain, sambil, menangis, .]\n[padahal, sebenarnya, sudah, ada, regulasi, dari, kementerian, perdagangan, yang, melarang, adanya, impor, garam, sejak, 1, bulan, sebelum, dan, 2, bulan, sedudah, panen, garam, lokal, .]\n[menteri, badan, usaha, milik, negara, (, bumn, ), rini, soemarno, menegaskan, salah, satu, upaya, pemerintah, menstabilkan, nilai, tukar, rupiah, terhadap, dolar, as, dalam, jangka, panjang, adalah, mengurangi, ketergantungan, impor, .]\n[untuk, jangka, panjang, ,, pasokan, indofood, di, turki, ini, akan, didorong, masuk, ke, eropa, .]\n[astra, agro, (, aali, ), turun, rp, 725, ke, rp, 22.475, ,, matahari, (, lppf, ), turun, rp, 675, ke, rp, 16.325, ,, dan, indofood, cbp, (, icbp, ), turun, rp, 650, ke, rp, 12.700, .]\n[menteri, perdagangan, (, mendag, ), rachmat, gobel, menuturkan, beberapa, perusahaan, indonesia, yang, sukses, berinvestasi, di, afrika, seperti, indofood, ,, kalbe, farma, ,, dan, lainnya, .]\n[ekspornya, berapa, ,, indofood, juga, sudah, ekspor, ke, 50, negara, ,, \", katan, anthony, di, lokasi, pabrik, minuman, indofood, asahi, di, cicurug, ,, sukabumi, ,, rabu, (, 8/4/2015, ), .]\n[mendapat, gelar, sarjana, ,, kemudian, pria, ini, bekerja, di, pt, indofood, di, 2007, ,, namun, siapa, sangka, ,, kini, ali, malah, menjadi, seorang, perajin, batik, .]\n[direktur, jenderal, pengolahan, dan, pemasaran, hasil, pertanian, (, p2hp, ), kementerian, pertanian, yusni, emilia, harahap, mengatakan, ,, saat, ini, harga, cabai, di, tingkat, petani, mulai, membaik, ,, sehingga, petani, masih, bisa, sedikit, untung, .]\n[direktur, pt, indofood, sukses, makmur, tbk, (, indf, ), itu, mengaku, didukung, oleh, sekitar, 77, perusahaan, dengan, suara, lebih, dari, 20, %, .]\n[vice, president, pt, indofood, sukses, makmur, tbk, (, indf, ), franciscus, welirang, mengungkapkan, penolakannya, pada, mekanisme, kenaikan, tarif, listrik, ,, khususnya, untuk, perusahaan, publik, /, terbuka, .]\n[beberapa, merek, terkenal, seperti, asia, pulp, and, paper, (, app, ), ,, wardah, ,, extra, joss, ,, garuda, food, ,, teh, botol, sosro, ,, pizza, mini, ,, unilever, ,, indofood, memperkenalkan, produk, yang, bersertifikat, halal, .]\n[indocement, (, intp, ), naik, rp, 550, ke, rp, 19.650, ,, lion, metal, (, lion, ), naik, rp, 500, ke, rp, 13.500, ,, dan, indofood, cbp, (, icbp, ), naik, rp, 450, ke, rp, 10.950, .]\n[sementara, ,, indofood, kembali, menambah, saham, hingga, 49,4, juta, lembar, atau, 7,5, %, lebih, saham, minzhong, .]\n[dalam, bidang, pangan, ,, sby, menyampaikan, rencana, melakukan, investasi, pembangunan, pabrik, mie, instan, indofood, di, kazakhstan, .]\n[tidak, ada, hanya, indofood, ,, tapi, juga, ada, wings, group, dan, perusahaan, -, perusahaan, lainnya, .]\n[hm, sampoerna, (, hmsp, ), naik, rp, 1.000, ke, rp, 56.000, ,, mayora, (, myor, ), naik, rp, 300, ke, rp, 20.000, ,, dan, indofood, (, indf, ), naik, rp, 150, ke, rp, 5.700, .]\n[karena, pelepasan, pemudik, tahun, ini, berada, dalam, suasana, hut, kemerdekaan, ri, ,, serta, usia, indofood, yang, sudah, mencapai, 40, tahun, .]\n[pendiri, pt, indofood, cbp, sukses, makmur, tbk, (, indofood, ), dan, pt, bank, central, asia, tbk, (, bca, ), sudono, salim, alias, liem, sioe, liong, meninggal, dunia, .]\n[pt, indofood, sukses, makmur, tbk, (, indf, ), mencatatkan, laba, bersih, rp, 815, miliar, di, triwulan, i-2012, ,, tumbuh, 10,9, %, dibanding, periode, yang, sama, tahun, sebelumnya, rp, 735,6, miliar, .]\n[oleh, sebab, itu, para, petani, bawang, merah, mendatangi, dpr, untuk, meminta, bantuan, agar, dapat, difasilitasi, dengan, pemerintah, ,, khususnya, kementerian, perdagangan, (, kemendag, ), .]\n[stock, pick, untuk, hari, ini, antara, lain, :, bank, central, asia, (, bca, ), ,, bow, bank, rakyat, indonesia, (, bbri, ), ,, bow, indofood, sukses, makmur, (, indf, ), ,, bow, (, ang, /, ang, )]\n[trading, idea, indofood, sukses, makmur, (, indf, ):, setelah, sempat, menguat, dari, level, harga, rp5,000, hingga, sempat, menyentuh, rp6,800, pada, bulan, agustus, kemarin, .]\n[tidak, hanya, di, taiwan, ,, dua, jaringan, supermarket, terbesar, di, hong, kong, juga, menyetop, penjualan, produk, indofood, itu, .]\n[di, saat, musim, kampanye, pilpres, 2009, ,, produk, makanan, yang, bernaung, di, bawah, pt, indofood, sukses, makmur, tbk, ini, ,, mengeluarkan, iklan, kontroversial, di, televisi, dengan, icon, \", sby, presiden, ku, ,, ..., \", .]\n[hal, ini, disampaikan, oleh, direktur, indofood, franciscus, welirang, ketika, ditemui, di, gedung, dpr, ,, senayan, ,, jakarta, ,, kamis, (, 14/10/2010, ), .]\n[saham, grup, indofood, terkapar, lantaran, adanya, sweeping, produk, mie, instan, asal, indonesia, di, taiwan, .]\n[sedangkan, 2, calon, emiten, baru, telah, memastikan, jadwal, ipo, dan, telah, menggelar, penawaran, umum, yaitu, :, pt, indofood, cbp, sukses, makmur, rp, 6,290, triliun, .]\n[pt, indofood, cbp, sukses, makmur, menyiapkan, dana, sebesar, rp, 1,9, triliun, untuk, pengembangan, usaha, produk, mie, instan, selama, beberapa, tahun, ke, depan, .]\n[economic, :, awasi, sektor, keuangan, ,, pemerintah, gandeng, oecd, kementerian, keuangan, melakukan, kerja, sama, dengan, the, organization, for, economic, and, development, (, oecd, ), .]\n[pt, indofood, cbp, sukses, makmur, (, consumer, branded, product, ), ,, anak, usaha, pt, indofood, sukses, makmur, tbk, (, indf, ), menunjuk, 4, sekuritas, untuk, menangani, penawaran, saham, perdana, (, initial, public, offering, /, ipo, ), terdiri, dari, 3, sekuritas, asing, dan, 1, sekuritas, lokal, .]\n[saham, unggulan, yang, melemah, antara, lain, telkom, (, tlkm, ), ,, btpn, (, btpn, ), ,, inco, (, inco, ), ,, bumi, resources, (, bumi, ), ,, semen, gresik, (, smgr, ), ,, bri, (, bbri, ), ,, indofood, (, indf, ), dan, lain, sebagainya, .]\n[saham, raksasa, konsumsi, seperti, indofood, (, indf, ), ,, unilever, (, unvr, ), dan, gudang, garam, (, ggrm, ), turut, berpartisipasi, .]\n[pt, indofood, sukses, makmur, tbk, (, indf, ), berhasil, mencetak, lonjakan, laba, yang, cukup, fantastis, hingga, 100, %, selama, tahun, 2009, .]\n[kapuk, raya, ,, jl, ., kapuk, muara, dsk, pt, indofood, kawasan, berikat, nusantara, marunda, jl, .]\n[\", iya, ,, benar, ,, \", ujar, salah, seorang, staf, indofood, saat, dikonfirmasi, detikfinance, ,, mengenai, kabar, tersebut, ,, senin, (, 22/6/2009, ), .]\n[perusahaan, makanan, olahan, ,, pt, indofood, sukses, makmur, tbk, (, indf, ), menggunakan, acuan, kupon, bunga, fr51, untuk, penerbitan, obligasi, kelima, senilai, rp, 1, triliun, .]\n[sedangkan, saham, -, saham, yang, turun, harganya, antara, lain, ,, bank, central, asia, (, bbca, ), turun, rp, 100, menjadi, rp, 2.350, ,, aneka, tambang, (, antm, ), turun, rp, 30, menjadi, rp, 1.200, dan, indofood, sukses, makmur, (, indf, ), turun, rp, 20, menjadi, rp, 880, .]\n[suami, mantan, dirut, indofood, eva, rianti, hutapea, ini, ,, dicecar, belasan, pertanyaan, oleh, penyidik, .]\n[pt, indofood, sukses, makmur, tbk, memutuskan, untuk, menunda, rencana, penerbitan, obligasi, rupiah, seri, v, ,, disebabkan, karena, kondisi, pasar, yang, kurang, menunjang, .]\n[rapat, umum, pemegang, saham, luar, biasa, (, rupslb, ), indofood, mensahkan, rancangan, akuisisi, tersebut, dalam, rapat, yang, berlangsung, di, wisma, indocement, ,, jalan, sudirman, ,, jakarta, ,, selasa, (, 23/10/2007, ), .]\n[kelimanya, adalah, pt, pp, london, sumatra, tbk, ,, pt, sinarmas, ,, pt, bakrie, sumatra, plantations, tbk, ,, indofood, dan, minamas, .]\n[dengan, akuisisi, lonsum, ,, lahan, grup, indofood, akan, bertambah, menjadi, 387, ribu, hektar, dan, luas, lahan, tertanam, 160, ribu, hektar, .]\n[philip, juga, memegang, posisi, penting, di, anak, perusahaan, indofood, ,, yakni, pt, boga, sari, flour, mill, sebagai, chief, commercial, officer, .]\n[\", surat, tersebut, meminta, para, pengguna, pita, frekuensi, untuk, mematuhi, ketentuan, yang, ada, pada, pasal, 11, ayat, (, 3, ), peraturan, menteri, perhubungan, no, ., km, ., 2, tahun, 2005, .]\n[demikian, disampaikan, direktur, indofood, thomas, tji, e, ,, usai, rupslb, ,, di, wisma, indocement, ,, jalan, sudirman, ,, jakarta, ,, senin, (, 16/10/2006, ), .]\n[dicontohkan, dia, perusahaan, yang, telah, melakukan, rutinitas, mudik, bareng, adalah, sido, muncul, dan, indofood, yag, mengerahkan, 200, armada, ., \"kalau]\n[indofood, juga, menderita, akibat, kenaikan, bbm, tahun, lalu, yang, menyebabkan, kenaikan, biaya, produksi, dan, biaya, angkutan, ,, serta, naiknya, biaya, bahan, baku, ,, marjin, laba, kotor, maupun, marjin, laba, usaha, mengalami, penurunan, menjadi, masing, -, masing, 21,9, %, .]\n[kebun, sawit, dalam, kesempatan, yang, sama, ,, wakil, direktur, utama, indofood, cesar, m, dela, cruz, mengatakan, ,, perseroan, menargetkan, memiliki, lahan, sawit, seluas, 250, ribu, ha, pada, 2015, .]\n[obligasi, yang, diterbitkan, sejumlah, us$, 280, juta, diterbitkan, oleh, anak, usahanya, yang, berdomisili, di, mauritius, yakni, indofood, international, finance, limited, .]\n[indofood, berharap, keputusan, pengadilan, inggris, bisa, diperoleh, akhir, februari, atau, maret, .]\n[semula, ,, 17, persen, utang, indofood, berupa, utang, jangka, pendek, dan, sisanya, 83, persen, jangka, panjang, .]\n[rata, setiap, tahun, ,, indofood, menjual, 9,5, miliar, bungkus, mie, instan, .]\n[pkb, khawatir, para, pembantu, presiden, terganggu, konsentrasi, kerjanya, ,, sehingga, mengganggu, program, pembangunan, yang, dicanangkan, oleh, presiden, joko, widodo, .]\n[warga, pun, berkerumun, di, dekat, mobil, jokowi, agar, bisa, mendapatkan, kaus, dan, buku, ,, atau, sekedar, bersalaman, dan, foto, bersama, .]\n[sekitar, 30, menit, berada, di, ambon, city, center, ,, mobil, presiden, kembali, meluncur, .]\n[sontak, warga, langsung, berlarian, menghampiri, jokowi, untuk, sekadar, bersalaman, dan, meminta, foto, bersama, .]\n[selang, 10, menit, kemudian, ,, mobil, presiden, langsung, meluncur, dari, hotel, .]\n[ternyata, jokowi, langsung, memberitahukan, ingin, mengunjungi, pusat, perbelanjaan, di, ambon, .]\n[ketum, golkar, aburizal, bakrie, sudah, menemui, presiden, joko, widodo, untuk, menyampaikan, persiapan, munaslub, .]\n[menurut, idrus, ,, menkum, ham, yasonna, laoly, memberikan, sinyal, positif, berupa, pengesahan, .]\n[\", saya, tadi, ketemu, dengan, menkum, ham, untuk, mengantarkan, susunan, kepengurusan, dpp, golkar, hasil, munas, bali, yang, sudah, akomodasi, kader, golkar, di, ancol, untuk, mendapatkan, pengesahan, ,, \", kata, sekjen, golkar, idrus, marham, di, gedung, dpr, ,, senayan, ,, jakarta, pusat, ,, senin, (, 4/4/2016, ), .]\n[pengurus, golkar, hasil, munas, bali, mengakomodir, sejumlah, nama, pengurus, munas, ancol, .]\n[hubungan, yang, kian, terjalin, baik, antara, kedua, partai, itu, dengan, pemeritahan, jokowi, membuat, spekulasi, akan, adanya, jatah, kursi, yang, disiapkan, .]\n[meninggalkan, gerindra, di, kmp, ,, partai, berlambang, pohon, beringin, itu, juga, belum, mendapat, kepastian, apakah, akan, mendapat, jatah, kursi, .]\n[namun, ,, hingga, kini, belum, ada, kepastian, soal, kader, pan, yang, masuk, kabinet, ,, meski, pan, juga, menegaskan, tak, mendesak, atau, meminta, ', jatah, ', itu, kepada, jokowi, .]\n[terserah, presiden, ,, \", ujar, zulkifli, singkat, kepada, detikcom, saat, dihubungi, terpisah, ,, senin, (, 4/4, ), .]\n[meski, begitu, ,, eddy, belum, bisa, memastikan, apakah, sudah, ada, komunikasi, antara, zulkifli, dengan, jokowi, terkait, perombakan, kabinet, .]\n[sementara, itu, saat, dikonfirmasi, ,, zulkifli, hasan, tak, mau, memberi, komentar, banyak, .]\n[jika, memang, ada, ,, komunikasi, langsung, dilakukan, dengan, ketum, pan, zulkifli, hasan, semata, .]\n[\", kalau, ada, komunikasi, pihak, istana, dengan, pan, ,, langsung, antara, presiden, dan, ketum, .]\n[reshuffle, itu, hak, prerogatif, presiden, ,, melihat, kebutuhan, beliau, seperti, apa, ,, \", ungkap, sekjen, pan, eddy, soeparno, saat, berbincang, dengan, detikcom, ,, senin, (, 4/4/2016, ), malam, .]\n[memang, belum, ada, kepastian, apakah, presiden, joko, widodo, akan, menyediakan, pos, menteri, tertentu, untuk, partai, pimpinan, zulkifli, hasan, itu, .]\n[pdip, disebut, hendrawan, sudah, memiliki, catatan, evaluasi, menyeluruh, soal, kinerja, menteri, .]\n[seperti, diketahui, nama, menko, kemaritiman, rizal, ramli, sempat, menjadi, pembicaraan, usai, memposting, sindiran, terhadap, menteri, esdm, sudirman, said, di, media, sosial, .]\n[menteri, rini, ini, menimbulkan, pro, dan, kontra, yang, luas, ,, \", kata, ketua, dpp, pdip, hendrawan, supratikno, ,, senin, (, 21/3, ), .]\n[seperti, menteri, bumn, rini, soemarno, yang, selama, ini, sering, dikritik, keras, oleh, pdip, .]\n[banyak, kritik, yang, dilontarkan, dari, berbagai, pihak, ,, termasuk, dari, pdip, .]\n[harapan, kami, kekuatan, politik, pemerintah, harus, semakin, kuat, dan, solid, ,, \", tutur, daniel, .]\n[\", jangan, sebarkan, berita, fitnah, apalagi, mengadu, domba, presiden, dengan, siapapun, termasuk, dengan, pkb, ,, \", tambah, dia, .]\n[jangan, malah, menambah, kekisruhan, dan, memperlemah, konsolidasi, politik, yang, semakin, baik, saat, ini, ,, \", beber, daniel, .]\n[\", ini, konspirasi, pdip, ,, karena, aneh, kan, sesama, koalisi, kok, nyerang, .]\n[kekuatan, gelap, ini, mencoba, merebutnya, dengan, cara, -, cara, fitnah, yang, kasar, dan, tidak, terhormat, ,, \", jelas, daniel, .]\n[pkb, sendiri, melihat, bahwa, terhadap, pihaknya, ,, ada, serangan, untuk, upaya, penyingkiran, kadernya, ,, marwan, jafar, ,, dari, posisi, menteri, desa, dan, pembangunan, daerah, tertinggal, dan, transmigrasi, (, pdtt, ), .]\n[partai, atau, siapa, pun, tidak, perlu, menekan, ,, mendikte, ,, apalagi, memaksa, soal, reshuffle, ini, ,, \", ungkap, daniel, dalam, perbincangan, dengan, detikcom, ,, senin, (, 4/3, ), malam, .]\n[wasekjen, pkb, daniel, johan, menyebut, reshuffle, adalah, sepenuhnya, hak, presiden, .]\n[sinyal, akan, dilakukannya, reshuffle, kabinet, kerja, oleh, presiden, joko, widodo, terus, berhembus, .]\n[suasana, makin, cair, ketika, beberapa, anggota, staf, istana, negara, ikut, berjoget, .]\n[mereka, yang, kebanyakan, ibu, -, ibu, sudah, berkumpul, di, dermaga, biriosi, ,, sanggeng, ,, manokwari, ,, papua, barat, .]\n[\", pkb, memantau, semua, manuver, atau, gerakan, pihak, -, pihak, yang, ingin, mendelegitimasi, kemendes, di, bawah, pak, marwan, ,, \", pungkasnya, .]\n[wakil, sekretaris, jenderal, pkb, jazilul, fawaid, mengatakan, ada, pihak, -, pihak, yang, menciptakan, opini, untuk, mengarahkan, pemberitaan, reshuffle, terhadap, kader, pkb, yang, menjabat, sebagai, menteri, di, kabinet, kerja, .]\n[saat, ini, jk, masih, melakukan, lawatan, kerja, dari, washington, dc, ke, jepang, .]\n[yang, mengumumkan, memang, presiden, ,, \", ujar, jk, sebelum, bertolak, ke, jepang, dari, washington, dc, ,, amerika, serikat, ,, selasa, (, 6/4/2016, ), .]\n[kemendes, pdt, berada, di, bawah, koordinasi, menko, pmk, puan, maharani, dari, pdip, .]\n[\", kami, yakin, presiden, akan, arif, dan, senantiasa, menghargai, pkb, ,, \", kata, karding, ,, senin, (, 4/4, ), kemarin, .]\n[hal, itu, bisa, dilihat, dari, adanya, upaya, mendesak, presiden, untuk, mengganti, menteri, desa, marwan, jafar, ,, dengan, cara, mengorganisir, massa, ,, membangun, opini, dan, sebagainya, .]\n[pkb, akan, melawan, segala, bentuk, penggiringan, berita, dan, melawan, ambisi, orang, -, orang, tertentu, yang, ingin, merebut, kemendes, ,, \", kata, jazilul, dalam, keterangan, tertulis, yang, diterima, detikcom, ,, selasa, (, 5/4/2016, ), .]\n[pkb, pun, siap, melawan, siapa, pun, pihak, yang, ingin, merebut, kursi, kemendes, pdt, .]\n[di, tengah, isu, santer, reshuffle, kabinet, ,, pkb, menegaskan, siap, melawan, pihak, yang, mencoba, merebut, kursi, mendes, pdt, .]\n[lima, nama, itu, adalah, sekjen, pan, eddy, soeparno, ,, waketum, pan, taufik, kurniawan, ,, asman, abnur, ,, didik, j, rachbini, ,, dan, hanafi, rais, .]\n[\", semua, pihak, saya, kira, mengerti, ,, karena, reshuffle, itu, domainnya, presiden, ya, kita, serahkan, sepenuhnya, ke, beliau, ,, \", katanya, .]\n[lalu, apakah, pan, sudah, menyepakati, nama, calon, menteri, dengan, presiden, jokowi, ?]\n[\", reshuffle, itu, domainnya, presiden, ,, jadi, semua, terserah, presiden, ,, kita, menghormati, ,, \", kata, zulkifli, hasan, kepada, detikcom, ,, selasa, (, 5/4/2016, ), .]\n[saat, dikonfirmasi, soal, isu, ini, ,, ketum, pan, zulkifli, hasan, tak, mau, bicara, panjang, lebar, .]\n[jokowi, mewanti, -, wanti, jangan, sampai, uang, bantuan, tidak, digunakan, untuk, membeli, pulsa, .]\n[wapres, jusuf, kalla, menuturkan, pengumuman, reshuffle, kabinet, tinggal, menunggu, hari, baik, saja, .]\n[yang, disabilitas, rp, 300, ribu, per, bulan, ,, tadi, diterimakan, 4, bulan, ,, lansia, rp, 200, ribu, per, bulan, ,, \", tutur, jokowi, .]\n"
     ]
    }
   ],
   "source": [
    "# Kalimat yang termasuk dari akurasi\n",
    "for x in sentences:\n",
    "     print('[%s]' % ', '.join(map(str, x)))"
   ]
  }
 ]
}